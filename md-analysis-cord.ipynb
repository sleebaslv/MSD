{
 "cells": [
  {
   "cell_type": "code",
   "execution_count": 9,
   "metadata": {
    "collapsed": false
   },
   "outputs": [],
   "source": [
    "import numpy as np\n",
    "import matplotlib.pyplot as plt\n",
    "from MDAnalysis import *\n",
    "from MDAnalysis.analysis.waterdynamics import MeanSquareDisplacement as MSD\n",
    "u = MDAnalysis.Universe(\"../../inputFiles/waterGnc.psf\", \"../../outputFiles/r1-f0.04-a0-c0.00.dcd\")\n",
    "oxy = u.select_atoms(\"type OT\")\n",
    "with MDAnalysis.Writer(\"oxy.xyz\", oxy.n_atoms) as W:\n",
    "    for ts in u.trajectory:\n",
    "        W.write(oxy)"
   ]
  },
  {
   "cell_type": "code",
   "execution_count": null,
   "metadata": {
    "collapsed": true
   },
   "outputs": [],
   "source": []
  }
 ],
 "metadata": {
  "kernelspec": {
   "display_name": "Python 2",
   "language": "python",
   "name": "python2"
  },
  "language_info": {
   "codemirror_mode": {
    "name": "ipython",
    "version": 2
   },
   "file_extension": ".py",
   "mimetype": "text/x-python",
   "name": "python",
   "nbconvert_exporter": "python",
   "pygments_lexer": "ipython2",
   "version": "2.7.13"
  }
 },
 "nbformat": 4,
 "nbformat_minor": 2
}
